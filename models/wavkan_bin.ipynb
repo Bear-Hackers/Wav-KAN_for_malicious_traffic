{
 "cells": [
  {
   "cell_type": "code",
   "execution_count": 3,
   "metadata": {},
   "outputs": [],
   "source": [
    "import pandas as pd\n",
    "import numpy as np\n",
    "import matplotlib.pyplot as plt\n",
    "import seaborn as sns"
   ]
  },
  {
   "cell_type": "code",
   "execution_count": null,
   "metadata": {},
   "outputs": [
    {
     "name": "stdout",
     "output_type": "stream",
     "text": [
      "<class 'pandas.core.frame.DataFrame'>\n",
      "RangeIndex: 1167868 entries, 0 to 1167867\n",
      "Data columns (total 71 columns):\n",
      " #   Column                        Non-Null Count    Dtype  \n",
      "---  ------                        --------------    -----  \n",
      " 0    Destination Port             1167868 non-null  int64  \n",
      " 1    Flow Duration                1167868 non-null  int64  \n",
      " 2    Total Fwd Packets            1167868 non-null  int64  \n",
      " 3    Total Backward Packets       1167868 non-null  int64  \n",
      " 4   Total Length of Fwd Packets   1167868 non-null  int64  \n",
      " 5    Total Length of Bwd Packets  1167868 non-null  int64  \n",
      " 6    Fwd Packet Length Max        1167868 non-null  int64  \n",
      " 7    Fwd Packet Length Min        1167868 non-null  int64  \n",
      " 8    Fwd Packet Length Mean       1167868 non-null  float64\n",
      " 9    Fwd Packet Length Std        1167868 non-null  float64\n",
      " 10  Bwd Packet Length Max         1167868 non-null  int64  \n",
      " 11   Bwd Packet Length Min        1167868 non-null  int64  \n",
      " 12   Bwd Packet Length Mean       1167868 non-null  float64\n",
      " 13   Bwd Packet Length Std        1167868 non-null  float64\n",
      " 14  Flow Bytes/s                  1167868 non-null  float64\n",
      " 15   Flow Packets/s               1167868 non-null  float64\n",
      " 16   Flow IAT Mean                1167868 non-null  float64\n",
      " 17   Flow IAT Std                 1167868 non-null  float64\n",
      " 18   Flow IAT Max                 1167868 non-null  int64  \n",
      " 19   Flow IAT Min                 1167868 non-null  int64  \n",
      " 20  Fwd IAT Total                 1167868 non-null  int64  \n",
      " 21   Fwd IAT Mean                 1167868 non-null  float64\n",
      " 22   Fwd IAT Std                  1167868 non-null  float64\n",
      " 23   Fwd IAT Max                  1167868 non-null  int64  \n",
      " 24   Fwd IAT Min                  1167868 non-null  int64  \n",
      " 25  Bwd IAT Total                 1167868 non-null  int64  \n",
      " 26   Bwd IAT Mean                 1167868 non-null  float64\n",
      " 27   Bwd IAT Std                  1167868 non-null  float64\n",
      " 28   Bwd IAT Max                  1167868 non-null  int64  \n",
      " 29   Bwd IAT Min                  1167868 non-null  int64  \n",
      " 30  Fwd PSH Flags                 1167868 non-null  int64  \n",
      " 31   Fwd URG Flags                1167868 non-null  int64  \n",
      " 32   Fwd Header Length            1167868 non-null  int64  \n",
      " 33   Bwd Header Length            1167868 non-null  int64  \n",
      " 34  Fwd Packets/s                 1167868 non-null  float64\n",
      " 35   Bwd Packets/s                1167868 non-null  float64\n",
      " 36   Min Packet Length            1167868 non-null  int64  \n",
      " 37   Max Packet Length            1167868 non-null  int64  \n",
      " 38   Packet Length Mean           1167868 non-null  float64\n",
      " 39   Packet Length Std            1167868 non-null  float64\n",
      " 40   Packet Length Variance       1167868 non-null  float64\n",
      " 41  FIN Flag Count                1167868 non-null  int64  \n",
      " 42   SYN Flag Count               1167868 non-null  int64  \n",
      " 43   RST Flag Count               1167868 non-null  int64  \n",
      " 44   PSH Flag Count               1167868 non-null  int64  \n",
      " 45   ACK Flag Count               1167868 non-null  int64  \n",
      " 46   URG Flag Count               1167868 non-null  int64  \n",
      " 47   CWE Flag Count               1167868 non-null  int64  \n",
      " 48   ECE Flag Count               1167868 non-null  int64  \n",
      " 49   Down/Up Ratio                1167868 non-null  int64  \n",
      " 50   Average Packet Size          1167868 non-null  float64\n",
      " 51   Avg Fwd Segment Size         1167868 non-null  float64\n",
      " 52   Avg Bwd Segment Size         1167868 non-null  float64\n",
      " 53   Fwd Header Length.1          1167868 non-null  int64  \n",
      " 54  Subflow Fwd Packets           1167868 non-null  int64  \n",
      " 55   Subflow Fwd Bytes            1167868 non-null  int64  \n",
      " 56   Subflow Bwd Packets          1167868 non-null  int64  \n",
      " 57   Subflow Bwd Bytes            1167868 non-null  int64  \n",
      " 58  Init_Win_bytes_forward        1167868 non-null  int64  \n",
      " 59   Init_Win_bytes_backward      1167868 non-null  int64  \n",
      " 60   act_data_pkt_fwd             1167868 non-null  int64  \n",
      " 61   min_seg_size_forward         1167868 non-null  int64  \n",
      " 62  Active Mean                   1167868 non-null  float64\n",
      " 63   Active Std                   1167868 non-null  float64\n",
      " 64   Active Max                   1167868 non-null  int64  \n",
      " 65   Active Min                   1167868 non-null  int64  \n",
      " 66  Idle Mean                     1167868 non-null  float64\n",
      " 67   Idle Std                     1167868 non-null  float64\n",
      " 68   Idle Max                     1167868 non-null  int64  \n",
      " 69   Idle Min                     1167868 non-null  int64  \n",
      " 70   Label                        1167868 non-null  int64  \n",
      "dtypes: float64(24), int64(47)\n",
      "memory usage: 632.6 MB\n"
     ]
    }
   ],
   "source": [
    "df=pd.read_csv('../data/binary_class_resampled.csv')\n",
    "df.info()"
   ]
  },
  {
   "cell_type": "code",
   "execution_count": 5,
   "metadata": {},
   "outputs": [
    {
     "data": {
      "application/vnd.microsoft.datawrangler.viewer.v0+json": {
       "columns": [
        {
         "name": "index",
         "rawType": "int64",
         "type": "integer"
        },
        {
         "name": " Destination Port",
         "rawType": "int64",
         "type": "integer"
        },
        {
         "name": " Flow Duration",
         "rawType": "int64",
         "type": "integer"
        },
        {
         "name": " Total Fwd Packets",
         "rawType": "int64",
         "type": "integer"
        },
        {
         "name": " Total Backward Packets",
         "rawType": "int64",
         "type": "integer"
        },
        {
         "name": "Total Length of Fwd Packets",
         "rawType": "int64",
         "type": "integer"
        },
        {
         "name": " Total Length of Bwd Packets",
         "rawType": "int64",
         "type": "integer"
        },
        {
         "name": " Fwd Packet Length Max",
         "rawType": "int64",
         "type": "integer"
        },
        {
         "name": " Fwd Packet Length Min",
         "rawType": "int64",
         "type": "integer"
        },
        {
         "name": " Fwd Packet Length Mean",
         "rawType": "float64",
         "type": "float"
        },
        {
         "name": " Fwd Packet Length Std",
         "rawType": "float64",
         "type": "float"
        },
        {
         "name": "Bwd Packet Length Max",
         "rawType": "int64",
         "type": "integer"
        },
        {
         "name": " Bwd Packet Length Min",
         "rawType": "int64",
         "type": "integer"
        },
        {
         "name": " Bwd Packet Length Mean",
         "rawType": "float64",
         "type": "float"
        },
        {
         "name": " Bwd Packet Length Std",
         "rawType": "float64",
         "type": "float"
        },
        {
         "name": "Flow Bytes/s",
         "rawType": "float64",
         "type": "float"
        },
        {
         "name": " Flow Packets/s",
         "rawType": "float64",
         "type": "float"
        },
        {
         "name": " Flow IAT Mean",
         "rawType": "float64",
         "type": "float"
        },
        {
         "name": " Flow IAT Std",
         "rawType": "float64",
         "type": "float"
        },
        {
         "name": " Flow IAT Max",
         "rawType": "int64",
         "type": "integer"
        },
        {
         "name": " Flow IAT Min",
         "rawType": "int64",
         "type": "integer"
        },
        {
         "name": "Fwd IAT Total",
         "rawType": "int64",
         "type": "integer"
        },
        {
         "name": " Fwd IAT Mean",
         "rawType": "float64",
         "type": "float"
        },
        {
         "name": " Fwd IAT Std",
         "rawType": "float64",
         "type": "float"
        },
        {
         "name": " Fwd IAT Max",
         "rawType": "int64",
         "type": "integer"
        },
        {
         "name": " Fwd IAT Min",
         "rawType": "int64",
         "type": "integer"
        },
        {
         "name": "Bwd IAT Total",
         "rawType": "int64",
         "type": "integer"
        },
        {
         "name": " Bwd IAT Mean",
         "rawType": "float64",
         "type": "float"
        },
        {
         "name": " Bwd IAT Std",
         "rawType": "float64",
         "type": "float"
        },
        {
         "name": " Bwd IAT Max",
         "rawType": "int64",
         "type": "integer"
        },
        {
         "name": " Bwd IAT Min",
         "rawType": "int64",
         "type": "integer"
        },
        {
         "name": "Fwd PSH Flags",
         "rawType": "int64",
         "type": "integer"
        },
        {
         "name": " Fwd URG Flags",
         "rawType": "int64",
         "type": "integer"
        },
        {
         "name": " Fwd Header Length",
         "rawType": "int64",
         "type": "integer"
        },
        {
         "name": " Bwd Header Length",
         "rawType": "int64",
         "type": "integer"
        },
        {
         "name": "Fwd Packets/s",
         "rawType": "float64",
         "type": "float"
        },
        {
         "name": " Bwd Packets/s",
         "rawType": "float64",
         "type": "float"
        },
        {
         "name": " Min Packet Length",
         "rawType": "int64",
         "type": "integer"
        },
        {
         "name": " Max Packet Length",
         "rawType": "int64",
         "type": "integer"
        },
        {
         "name": " Packet Length Mean",
         "rawType": "float64",
         "type": "float"
        },
        {
         "name": " Packet Length Std",
         "rawType": "float64",
         "type": "float"
        },
        {
         "name": " Packet Length Variance",
         "rawType": "float64",
         "type": "float"
        },
        {
         "name": "FIN Flag Count",
         "rawType": "int64",
         "type": "integer"
        },
        {
         "name": " SYN Flag Count",
         "rawType": "int64",
         "type": "integer"
        },
        {
         "name": " RST Flag Count",
         "rawType": "int64",
         "type": "integer"
        },
        {
         "name": " PSH Flag Count",
         "rawType": "int64",
         "type": "integer"
        },
        {
         "name": " ACK Flag Count",
         "rawType": "int64",
         "type": "integer"
        },
        {
         "name": " URG Flag Count",
         "rawType": "int64",
         "type": "integer"
        },
        {
         "name": " CWE Flag Count",
         "rawType": "int64",
         "type": "integer"
        },
        {
         "name": " ECE Flag Count",
         "rawType": "int64",
         "type": "integer"
        },
        {
         "name": " Down/Up Ratio",
         "rawType": "int64",
         "type": "integer"
        },
        {
         "name": " Average Packet Size",
         "rawType": "float64",
         "type": "float"
        },
        {
         "name": " Avg Fwd Segment Size",
         "rawType": "float64",
         "type": "float"
        },
        {
         "name": " Avg Bwd Segment Size",
         "rawType": "float64",
         "type": "float"
        },
        {
         "name": " Fwd Header Length.1",
         "rawType": "int64",
         "type": "integer"
        },
        {
         "name": "Subflow Fwd Packets",
         "rawType": "int64",
         "type": "integer"
        },
        {
         "name": " Subflow Fwd Bytes",
         "rawType": "int64",
         "type": "integer"
        },
        {
         "name": " Subflow Bwd Packets",
         "rawType": "int64",
         "type": "integer"
        },
        {
         "name": " Subflow Bwd Bytes",
         "rawType": "int64",
         "type": "integer"
        },
        {
         "name": "Init_Win_bytes_forward",
         "rawType": "int64",
         "type": "integer"
        },
        {
         "name": " Init_Win_bytes_backward",
         "rawType": "int64",
         "type": "integer"
        },
        {
         "name": " act_data_pkt_fwd",
         "rawType": "int64",
         "type": "integer"
        },
        {
         "name": " min_seg_size_forward",
         "rawType": "int64",
         "type": "integer"
        },
        {
         "name": "Active Mean",
         "rawType": "float64",
         "type": "float"
        },
        {
         "name": " Active Std",
         "rawType": "float64",
         "type": "float"
        },
        {
         "name": " Active Max",
         "rawType": "int64",
         "type": "integer"
        },
        {
         "name": " Active Min",
         "rawType": "int64",
         "type": "integer"
        },
        {
         "name": "Idle Mean",
         "rawType": "float64",
         "type": "float"
        },
        {
         "name": " Idle Std",
         "rawType": "float64",
         "type": "float"
        },
        {
         "name": " Idle Max",
         "rawType": "int64",
         "type": "integer"
        },
        {
         "name": " Idle Min",
         "rawType": "int64",
         "type": "integer"
        },
        {
         "name": " Label",
         "rawType": "int64",
         "type": "integer"
        }
       ],
       "conversionMethod": "pd.DataFrame",
       "ref": "c21d6471-9d0f-4867-b0be-ef9fd73b1a9e",
       "rows": [
        [
         "0",
         "443",
         "61756852",
         "16",
         "15",
         "952",
         "7634",
         "627",
         "0",
         "59.5",
         "161.1657532",
         "2433",
         "0",
         "508.9333333",
         "789.6906688",
         "139.0291072",
         "0.501968591",
         "2058561.733",
         "4030172.314",
         "10000000",
         "30",
         "61800000",
         "4117123.467",
         "4993120.32",
         "10100000",
         "5337",
         "61700000",
         "4407559.143",
         "5076143.877",
         "10100000",
         "48",
         "0",
         "0",
         "332",
         "304",
         "0.259080563",
         "0.242888028",
         "0",
         "2433",
         "268.3125",
         "589.1022386",
         "347041.4476",
         "0",
         "0",
         "0",
         "1",
         "0",
         "0",
         "0",
         "0",
         "0",
         "276.9677419",
         "59.5",
         "508.9333333",
         "332",
         "16",
         "952",
         "15",
         "7634",
         "8192",
         "31350",
         "9",
         "20",
         "240011.1667",
         "463531.5656",
         "1186191",
         "50635",
         "9979568.333",
         "51253.44811",
         "10000000",
         "9874958",
         "0"
        ],
        [
         "1",
         "443",
         "3062933",
         "10",
         "12",
         "1144",
         "9484",
         "357",
         "0",
         "114.4",
         "148.9356311372",
         "1460",
         "0",
         "790.3333333333",
         "684.5652015342",
         "3469.8767488548",
         "7.1826579295",
         "145853.952380952",
         "433569.564382635",
         "2000817",
         "3",
         "1062113",
         "118012.555555556",
         "111588.138941949",
         "247882",
         "204",
         "2863868",
         "260351.636363636",
         "586810.058945528",
         "2000849",
         "3",
         "0",
         "0",
         "212",
         "252",
         "3.2648445134",
         "3.9178134161",
         "0",
         "1460",
         "462.0869565217",
         "605.6512582669",
         "366813.446640316",
         "0",
         "0",
         "0",
         "1",
         "0",
         "0",
         "0",
         "0",
         "1",
         "483.0909090909",
         "114.4",
         "790.3333333333",
         "212",
         "10",
         "1144",
         "12",
         "9484",
         "8192",
         "148",
         "9",
         "20",
         "0.0",
         "0.0",
         "0",
         "0",
         "0.0",
         "0.0",
         "0",
         "0",
         "0"
        ],
        [
         "2",
         "53",
         "30641",
         "1",
         "1",
         "65",
         "93",
         "65",
         "65",
         "65.0",
         "0.0",
         "93",
         "93",
         "93.0",
         "0.0",
         "5156.489671",
         "65.27202115",
         "30641.0",
         "0.0",
         "30641",
         "30641",
         "0",
         "0.0",
         "0.0",
         "0",
         "0",
         "0",
         "0.0",
         "0.0",
         "0",
         "0",
         "0",
         "0",
         "32",
         "32",
         "32.63601057",
         "32.63601057",
         "65",
         "93",
         "74.33333333",
         "16.16580754",
         "261.3333333",
         "0",
         "0",
         "0",
         "0",
         "0",
         "0",
         "0",
         "0",
         "1",
         "111.5",
         "65.0",
         "93.0",
         "32",
         "1",
         "65",
         "1",
         "93",
         "-1",
         "-1",
         "0",
         "32",
         "0.0",
         "0.0",
         "0",
         "0",
         "0.0",
         "0.0",
         "0",
         "0",
         "0"
        ],
        [
         "3",
         "443",
         "11053685",
         "9",
         "8",
         "2256",
         "4335",
         "837",
         "0",
         "250.6666666667",
         "350.0067856485",
         "1451",
         "0",
         "541.875",
         "593.6676409045",
         "596.2717410529",
         "1.5379486569",
         "690855.3125",
         "1837873.44989865",
         "5418295",
         "4",
         "5635390",
         "704423.75",
         "1889145.84955664",
         "5379159",
         "135",
         "11024815",
         "1574973.57142857",
         "2658248.12040072",
         "5467899",
         "4",
         "0",
         "0",
         "192",
         "168",
         "0.8142081125",
         "0.7237405444",
         "0",
         "1451",
         "366.1666666667",
         "481.9235050357",
         "232250.264705882",
         "0",
         "0",
         "0",
         "1",
         "0",
         "0",
         "0",
         "0",
         "0",
         "387.7058823529",
         "250.6666666667",
         "541.875",
         "192",
         "9",
         "2256",
         "8",
         "4335",
         "8192",
         "16740",
         "8",
         "20",
         "174260.0",
         "0.0",
         "174260",
         "174260",
         "5379159.0",
         "0.0",
         "5379159",
         "5379159",
         "0"
        ],
        [
         "4",
         "53",
         "268",
         "2",
         "2",
         "94",
         "336",
         "47",
         "47",
         "47.0",
         "0.0",
         "168",
         "168",
         "168.0",
         "0.0",
         "1604477.612",
         "14925.37313",
         "89.33333333",
         "151.2690759",
         "264",
         "1",
         "1",
         "1.0",
         "0.0",
         "1",
         "1",
         "3",
         "3.0",
         "0.0",
         "3",
         "3",
         "0",
         "0",
         "64",
         "64",
         "7462.686567",
         "7462.686567",
         "47",
         "168",
         "95.4",
         "66.27442946",
         "4392.3",
         "0",
         "0",
         "0",
         "0",
         "0",
         "0",
         "0",
         "0",
         "1",
         "119.25",
         "47.0",
         "168.0",
         "64",
         "2",
         "94",
         "2",
         "336",
         "-1",
         "-1",
         "1",
         "32",
         "0.0",
         "0.0",
         "0",
         "0",
         "0.0",
         "0.0",
         "0",
         "0",
         "0"
        ]
       ],
       "shape": {
        "columns": 71,
        "rows": 5
       }
      },
      "text/html": [
       "<div>\n",
       "<style scoped>\n",
       "    .dataframe tbody tr th:only-of-type {\n",
       "        vertical-align: middle;\n",
       "    }\n",
       "\n",
       "    .dataframe tbody tr th {\n",
       "        vertical-align: top;\n",
       "    }\n",
       "\n",
       "    .dataframe thead th {\n",
       "        text-align: right;\n",
       "    }\n",
       "</style>\n",
       "<table border=\"1\" class=\"dataframe\">\n",
       "  <thead>\n",
       "    <tr style=\"text-align: right;\">\n",
       "      <th></th>\n",
       "      <th>Destination Port</th>\n",
       "      <th>Flow Duration</th>\n",
       "      <th>Total Fwd Packets</th>\n",
       "      <th>Total Backward Packets</th>\n",
       "      <th>Total Length of Fwd Packets</th>\n",
       "      <th>Total Length of Bwd Packets</th>\n",
       "      <th>Fwd Packet Length Max</th>\n",
       "      <th>Fwd Packet Length Min</th>\n",
       "      <th>Fwd Packet Length Mean</th>\n",
       "      <th>Fwd Packet Length Std</th>\n",
       "      <th>...</th>\n",
       "      <th>min_seg_size_forward</th>\n",
       "      <th>Active Mean</th>\n",
       "      <th>Active Std</th>\n",
       "      <th>Active Max</th>\n",
       "      <th>Active Min</th>\n",
       "      <th>Idle Mean</th>\n",
       "      <th>Idle Std</th>\n",
       "      <th>Idle Max</th>\n",
       "      <th>Idle Min</th>\n",
       "      <th>Label</th>\n",
       "    </tr>\n",
       "  </thead>\n",
       "  <tbody>\n",
       "    <tr>\n",
       "      <th>0</th>\n",
       "      <td>443</td>\n",
       "      <td>61756852</td>\n",
       "      <td>16</td>\n",
       "      <td>15</td>\n",
       "      <td>952</td>\n",
       "      <td>7634</td>\n",
       "      <td>627</td>\n",
       "      <td>0</td>\n",
       "      <td>59.500000</td>\n",
       "      <td>161.165753</td>\n",
       "      <td>...</td>\n",
       "      <td>20</td>\n",
       "      <td>240011.1667</td>\n",
       "      <td>463531.5656</td>\n",
       "      <td>1186191</td>\n",
       "      <td>50635</td>\n",
       "      <td>9979568.333</td>\n",
       "      <td>51253.44811</td>\n",
       "      <td>10000000</td>\n",
       "      <td>9874958</td>\n",
       "      <td>0</td>\n",
       "    </tr>\n",
       "    <tr>\n",
       "      <th>1</th>\n",
       "      <td>443</td>\n",
       "      <td>3062933</td>\n",
       "      <td>10</td>\n",
       "      <td>12</td>\n",
       "      <td>1144</td>\n",
       "      <td>9484</td>\n",
       "      <td>357</td>\n",
       "      <td>0</td>\n",
       "      <td>114.400000</td>\n",
       "      <td>148.935631</td>\n",
       "      <td>...</td>\n",
       "      <td>20</td>\n",
       "      <td>0.0000</td>\n",
       "      <td>0.0000</td>\n",
       "      <td>0</td>\n",
       "      <td>0</td>\n",
       "      <td>0.000</td>\n",
       "      <td>0.00000</td>\n",
       "      <td>0</td>\n",
       "      <td>0</td>\n",
       "      <td>0</td>\n",
       "    </tr>\n",
       "    <tr>\n",
       "      <th>2</th>\n",
       "      <td>53</td>\n",
       "      <td>30641</td>\n",
       "      <td>1</td>\n",
       "      <td>1</td>\n",
       "      <td>65</td>\n",
       "      <td>93</td>\n",
       "      <td>65</td>\n",
       "      <td>65</td>\n",
       "      <td>65.000000</td>\n",
       "      <td>0.000000</td>\n",
       "      <td>...</td>\n",
       "      <td>32</td>\n",
       "      <td>0.0000</td>\n",
       "      <td>0.0000</td>\n",
       "      <td>0</td>\n",
       "      <td>0</td>\n",
       "      <td>0.000</td>\n",
       "      <td>0.00000</td>\n",
       "      <td>0</td>\n",
       "      <td>0</td>\n",
       "      <td>0</td>\n",
       "    </tr>\n",
       "    <tr>\n",
       "      <th>3</th>\n",
       "      <td>443</td>\n",
       "      <td>11053685</td>\n",
       "      <td>9</td>\n",
       "      <td>8</td>\n",
       "      <td>2256</td>\n",
       "      <td>4335</td>\n",
       "      <td>837</td>\n",
       "      <td>0</td>\n",
       "      <td>250.666667</td>\n",
       "      <td>350.006786</td>\n",
       "      <td>...</td>\n",
       "      <td>20</td>\n",
       "      <td>174260.0000</td>\n",
       "      <td>0.0000</td>\n",
       "      <td>174260</td>\n",
       "      <td>174260</td>\n",
       "      <td>5379159.000</td>\n",
       "      <td>0.00000</td>\n",
       "      <td>5379159</td>\n",
       "      <td>5379159</td>\n",
       "      <td>0</td>\n",
       "    </tr>\n",
       "    <tr>\n",
       "      <th>4</th>\n",
       "      <td>53</td>\n",
       "      <td>268</td>\n",
       "      <td>2</td>\n",
       "      <td>2</td>\n",
       "      <td>94</td>\n",
       "      <td>336</td>\n",
       "      <td>47</td>\n",
       "      <td>47</td>\n",
       "      <td>47.000000</td>\n",
       "      <td>0.000000</td>\n",
       "      <td>...</td>\n",
       "      <td>32</td>\n",
       "      <td>0.0000</td>\n",
       "      <td>0.0000</td>\n",
       "      <td>0</td>\n",
       "      <td>0</td>\n",
       "      <td>0.000</td>\n",
       "      <td>0.00000</td>\n",
       "      <td>0</td>\n",
       "      <td>0</td>\n",
       "      <td>0</td>\n",
       "    </tr>\n",
       "  </tbody>\n",
       "</table>\n",
       "<p>5 rows × 71 columns</p>\n",
       "</div>"
      ],
      "text/plain": [
       "    Destination Port   Flow Duration   Total Fwd Packets  \\\n",
       "0                443        61756852                  16   \n",
       "1                443         3062933                  10   \n",
       "2                 53           30641                   1   \n",
       "3                443        11053685                   9   \n",
       "4                 53             268                   2   \n",
       "\n",
       "    Total Backward Packets  Total Length of Fwd Packets  \\\n",
       "0                       15                          952   \n",
       "1                       12                         1144   \n",
       "2                        1                           65   \n",
       "3                        8                         2256   \n",
       "4                        2                           94   \n",
       "\n",
       "    Total Length of Bwd Packets   Fwd Packet Length Max  \\\n",
       "0                          7634                     627   \n",
       "1                          9484                     357   \n",
       "2                            93                      65   \n",
       "3                          4335                     837   \n",
       "4                           336                      47   \n",
       "\n",
       "    Fwd Packet Length Min   Fwd Packet Length Mean   Fwd Packet Length Std  \\\n",
       "0                       0                59.500000              161.165753   \n",
       "1                       0               114.400000              148.935631   \n",
       "2                      65                65.000000                0.000000   \n",
       "3                       0               250.666667              350.006786   \n",
       "4                      47                47.000000                0.000000   \n",
       "\n",
       "   ...   min_seg_size_forward  Active Mean   Active Std   Active Max  \\\n",
       "0  ...                     20  240011.1667  463531.5656      1186191   \n",
       "1  ...                     20       0.0000       0.0000            0   \n",
       "2  ...                     32       0.0000       0.0000            0   \n",
       "3  ...                     20  174260.0000       0.0000       174260   \n",
       "4  ...                     32       0.0000       0.0000            0   \n",
       "\n",
       "    Active Min    Idle Mean     Idle Std   Idle Max   Idle Min   Label  \n",
       "0        50635  9979568.333  51253.44811   10000000    9874958       0  \n",
       "1            0        0.000      0.00000          0          0       0  \n",
       "2            0        0.000      0.00000          0          0       0  \n",
       "3       174260  5379159.000      0.00000    5379159    5379159       0  \n",
       "4            0        0.000      0.00000          0          0       0  \n",
       "\n",
       "[5 rows x 71 columns]"
      ]
     },
     "execution_count": 5,
     "metadata": {},
     "output_type": "execute_result"
    }
   ],
   "source": [
    "df.head()"
   ]
  },
  {
   "cell_type": "code",
   "execution_count": null,
   "metadata": {},
   "outputs": [
    {
     "name": "stdout",
     "output_type": "stream",
     "text": [
      "(1167868, 70)\n",
      "(1167868,)\n",
      "(400396, 70)\n",
      "(400396,)\n"
     ]
    }
   ],
   "source": [
    "X_train=df.drop(columns=[' Label'])\n",
    "y_train=df[' Label']\n",
    "print(X_train.shape)\n",
    "print(y_train.shape)\n",
    "test_set=pd.read_csv('../data/binary_test.csv')\n",
    "X_test=test_set.drop(columns=[' Label'])\n",
    "y_test=test_set[' Label']\n",
    "print(X_test.shape)\n",
    "print(y_test.shape)"
   ]
  },
  {
   "cell_type": "code",
   "execution_count": 7,
   "metadata": {},
   "outputs": [],
   "source": [
    "from wavkan.KAN import KAN\n",
    "import torch\n",
    "import torch.nn as nn\n",
    "import torch.nn.functional as F\n",
    "import torch.optim as optim\n",
    "from torch.utils.data import DataLoader, TensorDataset\n",
    "import pandas as pd\n",
    "import numpy as np\n",
    "from sklearn.preprocessing import StandardScaler, MinMaxScaler\n",
    "from sklearn.model_selection import train_test_split\n",
    "from tqdm import tqdm"
   ]
  },
  {
   "cell_type": "code",
   "execution_count": 8,
   "metadata": {},
   "outputs": [],
   "source": [
    "# all\n",
    "features=['Flow Bytes/s', ' Fwd Packet Length Min', ' Idle Std', ' Bwd Packets/s', 'FIN Flag Count', ' Active Std', ' Down/Up Ratio', ' Init_Win_bytes_backward', ' Active Min', 'Bwd IAT Total', 'Init_Win_bytes_forward', ' SYN Flag Count', 'Fwd PSH Flags', 'Fwd Packets/s', ' Flow Packets/s', ' URG Flag Count', ' Bwd Packet Length Min', ' PSH Flag Count', ' Flow IAT Min', ' Bwd IAT Std', ' Active Max', ' Min Packet Length', ' Subflow Fwd Bytes', 'Total Length of Fwd Packets', 'Fwd IAT Total', ' Flow Duration', 'Active Mean', ' Destination Port', ' Fwd Packet Length Std', ' Bwd IAT Max', ' Bwd IAT Min', ' ACK Flag Count', ' Idle Min', ' Bwd IAT Mean', ' Flow IAT Mean', ' Packet Length Variance', ' Fwd Packet Length Max', ' Fwd IAT Min', ' Avg Fwd Segment Size', ' Fwd Packet Length Mean', 'Idle Mean', ' Fwd IAT Std', ' Fwd URG Flags', ' CWE Flag Count', ' RST Flag Count', ' ECE Flag Count', ' Idle Max', ' Bwd Header Length', ' Flow IAT Max', ' Fwd IAT Max', ' Flow IAT Std', ' Fwd IAT Mean', ' Bwd Packet Length Std', ' Average Packet Size', ' Packet Length Mean', 'Bwd Packet Length Max', ' Packet Length Std', ' Fwd Header Length.1', ' Fwd Header Length', ' Avg Bwd Segment Size', ' Bwd Packet Length Mean', ' Max Packet Length', ' min_seg_size_forward', ' Total Length of Bwd Packets', ' Subflow Bwd Bytes', ' Subflow Bwd Packets', ' Total Backward Packets', ' Total Fwd Packets', 'Subflow Fwd Packets', ' act_data_pkt_fwd']\n",
    "# rf\n",
    "# features=[' Bwd Packet Length Std', ' Bwd Packet Length Mean', ' Packet Length Variance', ' Average Packet Size', ' Max Packet Length', ' Avg Bwd Segment Size', ' Total Length of Bwd Packets', ' Packet Length Mean', ' Packet Length Std', 'Bwd Packet Length Max', ' Destination Port', 'Subflow Fwd Packets', ' Subflow Bwd Bytes', ' Total Fwd Packets', 'Total Length of Fwd Packets', ' Subflow Fwd Bytes', ' min_seg_size_forward', ' PSH Flag Count', ' Fwd Packet Length Max', ' act_data_pkt_fwd', ' ACK Flag Count', ' Bwd Header Length', ' Flow IAT Std', ' Avg Fwd Segment Size', ' Fwd Packet Length Mean', ' Fwd Header Length.1', ' Flow IAT Max', ' Total Backward Packets', ' Bwd Packets/s', ' Init_Win_bytes_backward', 'Fwd IAT Total', ' Fwd IAT Min', 'Init_Win_bytes_forward', ' Flow IAT Mean', ' Fwd Header Length', ' Subflow Bwd Packets', ' Idle Min', ' Fwd IAT Std', 'Flow Bytes/s', ' Flow Packets/s']\n",
    "# pca\n",
    "# features=['Flow Bytes/s', ' Fwd Packet Length Min', ' Idle Std', ' Bwd Packets/s', 'FIN Flag Count', ' Active Std', ' Down/Up Ratio', ' Init_Win_bytes_backward', ' Active Min', 'Bwd IAT Total', 'Init_Win_bytes_forward', ' SYN Flag Count', 'Fwd PSH Flags', 'Fwd Packets/s', ' Flow Packets/s', ' URG Flag Count', ' Bwd Packet Length Min', ' PSH Flag Count', ' Flow IAT Min', ' Bwd IAT Std', ' Active Max', ' Min Packet Length', ' Subflow Fwd Bytes', 'Total Length of Fwd Packets', 'Fwd IAT Total', ' Flow Duration', 'Active Mean', ' Destination Port', ' Fwd Packet Length Std', ' Bwd IAT Max', ' Bwd IAT Min', ' ACK Flag Count', ' Idle Min', ' Bwd IAT Mean', ' Flow IAT Mean', ' Packet Length Variance', ' Fwd Packet Length Max', ' Fwd IAT Min', ' Avg Fwd Segment Size', ' Fwd Packet Length Mean', 'Idle Mean', ' Fwd IAT Std', ' Fwd URG Flags', ' CWE Flag Count', ' RST Flag Count', ' ECE Flag Count', ' Idle Max', ' Bwd Header Length', ' Flow IAT Max', ' Fwd IAT Max', ' Flow IAT Std', ' Fwd IAT Mean', ' Bwd Packet Length Std', ' Average Packet Size', ' Packet Length Mean', 'Bwd Packet Length Max', ' Packet Length Std', ' Fwd Header Length.1', ' Fwd Header Length', ' Avg Bwd Segment Size', ' Bwd Packet Length Mean', ' Max Packet Length', ' min_seg_size_forward', ' Total Length of Bwd Packets', ' Subflow Bwd Bytes', ' Subflow Bwd Packets', ' Total Backward Packets', ' Total Fwd Packets', 'Subflow Fwd Packets', ' act_data_pkt_fwd'][:30]\n",
    "# dt\n",
    "# features=[' Bwd Packet Length Std', ' Average Packet Size', ' Max Packet Length', ' Destination Port', ' Total Length of Bwd Packets', ' Init_Win_bytes_backward', ' Bwd Packets/s', ' Bwd IAT Std', ' Subflow Bwd Bytes', ' Bwd IAT Min', 'Subflow Fwd Packets', ' Fwd Packet Length Std', ' Fwd Packet Length Max', ' Fwd IAT Std', ' Fwd IAT Mean', ' Flow IAT Min', ' Total Fwd Packets', ' Flow Duration', 'Total Length of Fwd Packets', ' Total Backward Packets']\n",
    "# scaler1=MinMaxScaler(feature_range=(-1, 1))\n",
    "# X_train=scaler1.fit_transform(X_train[features])\n",
    "# scaler2=MinMaxScaler(feature_range=(-1, 1))\n",
    "# X_test=scaler2.fit_transform(X_test[features])\n",
    "# scaler1=MinMaxScaler(feature_range=(-1, 1))\n",
    "# X_train=scaler1.fit_transform(X_train)\n",
    "# scaler2=MinMaxScaler(feature_range=(-1, 1))\n",
    "# X_test=scaler2.fit_transform(X_test)\n",
    "X_train=X_train[features].to_numpy()\n",
    "X_test=X_test[features].to_numpy()\n"
   ]
  },
  {
   "cell_type": "code",
   "execution_count": 9,
   "metadata": {},
   "outputs": [],
   "source": [
    "# Convert to PyTorch tensors\n",
    "X_train_tensor = torch.FloatTensor(X_train)\n",
    "y_train_tensor = torch.FloatTensor(y_train)\n",
    "X_test_tensor = torch.FloatTensor(X_test)\n",
    "y_test_tensor = torch.FloatTensor(y_test)"
   ]
  },
  {
   "cell_type": "code",
   "execution_count": 10,
   "metadata": {},
   "outputs": [],
   "source": [
    "train_dataset = TensorDataset(X_train_tensor, y_train_tensor)\n",
    "test_dataset = TensorDataset(X_test_tensor, y_test_tensor)\n",
    "\n",
    "batch_size = 512  # Adjust based on your memory constraints\n",
    "trainloader = DataLoader(train_dataset, batch_size=batch_size, shuffle=True)\n",
    "testloader = DataLoader(test_dataset, batch_size=batch_size, shuffle=False)"
   ]
  },
  {
   "cell_type": "code",
   "execution_count": 11,
   "metadata": {},
   "outputs": [],
   "source": [
    "# Defining wavelet types to try\n",
    "wavelet_types = ['shannon', 'morlet', 'dog']\n",
    "# wavelet_types = ['shannon']\n",
    "\n",
    "# Training parameters\n",
    "trials = 1  # Reduced from 5 due to larger dataset\n",
    "epochs_per_trial = 50  # Reduced from 50 due to larger dataset"
   ]
  },
  {
   "cell_type": "code",
   "execution_count": 12,
   "metadata": {},
   "outputs": [],
   "source": [
    "# Metrics for evaluation\n",
    "from sklearn.metrics import accuracy_score, precision_score, recall_score, f1_score, roc_auc_score,confusion_matrix, classification_report\n",
    "\n",
    "plt.style.use('seaborn-v0_8-whitegrid')\n",
    "sns.set_palette(\"colorblind\")\n",
    "plt.rcParams['font.family'] = 'DejaVu Sans'\n",
    "plt.rcParams['font.size'] = 12\n",
    "plt.rcParams['axes.labelsize'] = 14\n",
    "plt.rcParams['axes.titlesize'] = 16\n",
    "plt.rcParams['figure.figsize'] = [14, 10]"
   ]
  },
  {
   "cell_type": "code",
   "execution_count": 13,
   "metadata": {},
   "outputs": [
    {
     "name": "stdout",
     "output_type": "stream",
     "text": [
      "Testing wavelet: shannon\n",
      "Trial 1/1\n",
      "Using 2 GPUs!\n"
     ]
    },
    {
     "name": "stderr",
     "output_type": "stream",
     "text": [
      "Epoch 1/50:  12%|█▏        | 276/2281 [00:07<01:01, 32.86it/s]"
     ]
    },
    {
     "name": "stderr",
     "output_type": "stream",
     "text": [
      "                                                               \r"
     ]
    },
    {
     "name": "stdout",
     "output_type": "stream",
     "text": [
      "Epoch 1: Train Loss: 0.3637, Acc: 0.9398, F1: 0.9067 | Val Loss: 0.3152, Acc: 0.9836, F1: 0.9534\n"
     ]
    },
    {
     "name": "stderr",
     "output_type": "stream",
     "text": [
      "                                                               \r"
     ]
    },
    {
     "name": "stdout",
     "output_type": "stream",
     "text": [
      "Epoch 2: Train Loss: 0.2654, Acc: 0.9787, F1: 0.9657 | Val Loss: 0.2346, Acc: 0.9881, F1: 0.9662\n"
     ]
    },
    {
     "name": "stderr",
     "output_type": "stream",
     "text": [
      "                                                               \r"
     ]
    },
    {
     "name": "stdout",
     "output_type": "stream",
     "text": [
      "Epoch 3: Train Loss: 0.2094, Acc: 0.9838, F1: 0.9739 | Val Loss: 0.1794, Acc: 0.9900, F1: 0.9717\n"
     ]
    },
    {
     "name": "stderr",
     "output_type": "stream",
     "text": [
      "                                                               \r"
     ]
    },
    {
     "name": "stdout",
     "output_type": "stream",
     "text": [
      "Epoch 4: Train Loss: 0.1695, Acc: 0.9858, F1: 0.9771 | Val Loss: 0.1383, Acc: 0.9909, F1: 0.9742\n"
     ]
    },
    {
     "name": "stderr",
     "output_type": "stream",
     "text": [
      "                                                               \r"
     ]
    },
    {
     "name": "stdout",
     "output_type": "stream",
     "text": [
      "Epoch 5: Train Loss: 0.1393, Acc: 0.9872, F1: 0.9795 | Val Loss: 0.1074, Acc: 0.9915, F1: 0.9759\n"
     ]
    },
    {
     "name": "stderr",
     "output_type": "stream",
     "text": [
      "                                                               \r"
     ]
    },
    {
     "name": "stdout",
     "output_type": "stream",
     "text": [
      "Epoch 6: Train Loss: 0.1160, Acc: 0.9883, F1: 0.9812 | Val Loss: 0.0909, Acc: 0.9921, F1: 0.9776\n"
     ]
    },
    {
     "name": "stderr",
     "output_type": "stream",
     "text": [
      "                                                               \r"
     ]
    },
    {
     "name": "stdout",
     "output_type": "stream",
     "text": [
      "Epoch 7: Train Loss: 0.0983, Acc: 0.9892, F1: 0.9826 | Val Loss: 0.0745, Acc: 0.9926, F1: 0.9790\n"
     ]
    },
    {
     "name": "stderr",
     "output_type": "stream",
     "text": [
      "                                                               \r"
     ]
    },
    {
     "name": "stdout",
     "output_type": "stream",
     "text": [
      "Epoch 8: Train Loss: 0.0842, Acc: 0.9901, F1: 0.9841 | Val Loss: 0.0625, Acc: 0.9932, F1: 0.9808\n"
     ]
    },
    {
     "name": "stderr",
     "output_type": "stream",
     "text": [
      "                                                               \r"
     ]
    },
    {
     "name": "stdout",
     "output_type": "stream",
     "text": [
      "Epoch 9: Train Loss: 0.0730, Acc: 0.9907, F1: 0.9851 | Val Loss: 0.0533, Acc: 0.9934, F1: 0.9815\n"
     ]
    },
    {
     "name": "stderr",
     "output_type": "stream",
     "text": [
      "                                                                \r"
     ]
    },
    {
     "name": "stdout",
     "output_type": "stream",
     "text": [
      "Epoch 10: Train Loss: 0.0639, Acc: 0.9912, F1: 0.9858 | Val Loss: 0.0466, Acc: 0.9935, F1: 0.9816\n"
     ]
    },
    {
     "name": "stderr",
     "output_type": "stream",
     "text": [
      "                                                                \r"
     ]
    },
    {
     "name": "stdout",
     "output_type": "stream",
     "text": [
      "Epoch 11: Train Loss: 0.0565, Acc: 0.9916, F1: 0.9865 | Val Loss: 0.0431, Acc: 0.9934, F1: 0.9815\n"
     ]
    },
    {
     "name": "stderr",
     "output_type": "stream",
     "text": [
      "                                                                \r"
     ]
    },
    {
     "name": "stdout",
     "output_type": "stream",
     "text": [
      "Epoch 12: Train Loss: 0.0504, Acc: 0.9919, F1: 0.9870 | Val Loss: 0.0391, Acc: 0.9937, F1: 0.9822\n"
     ]
    },
    {
     "name": "stderr",
     "output_type": "stream",
     "text": [
      "                                                                \r"
     ]
    },
    {
     "name": "stdout",
     "output_type": "stream",
     "text": [
      "Epoch 13: Train Loss: 0.0455, Acc: 0.9921, F1: 0.9874 | Val Loss: 0.0346, Acc: 0.9942, F1: 0.9837\n"
     ]
    },
    {
     "name": "stderr",
     "output_type": "stream",
     "text": [
      "                                                                \r"
     ]
    },
    {
     "name": "stdout",
     "output_type": "stream",
     "text": [
      "Epoch 14: Train Loss: 0.0413, Acc: 0.9925, F1: 0.9879 | Val Loss: 0.0322, Acc: 0.9941, F1: 0.9834\n"
     ]
    },
    {
     "name": "stderr",
     "output_type": "stream",
     "text": [
      "                                                                \r"
     ]
    },
    {
     "name": "stdout",
     "output_type": "stream",
     "text": [
      "Epoch 15: Train Loss: 0.0380, Acc: 0.9927, F1: 0.9882 | Val Loss: 0.0294, Acc: 0.9946, F1: 0.9849\n"
     ]
    },
    {
     "name": "stderr",
     "output_type": "stream",
     "text": [
      "                                                                \r"
     ]
    },
    {
     "name": "stdout",
     "output_type": "stream",
     "text": [
      "Epoch 16: Train Loss: 0.0352, Acc: 0.9927, F1: 0.9883 | Val Loss: 0.0281, Acc: 0.9946, F1: 0.9848\n"
     ]
    },
    {
     "name": "stderr",
     "output_type": "stream",
     "text": [
      "                                                                \r"
     ]
    },
    {
     "name": "stdout",
     "output_type": "stream",
     "text": [
      "Epoch 17: Train Loss: 0.0329, Acc: 0.9930, F1: 0.9887 | Val Loss: 0.0264, Acc: 0.9948, F1: 0.9855\n"
     ]
    },
    {
     "name": "stderr",
     "output_type": "stream",
     "text": [
      "                                                                \r"
     ]
    },
    {
     "name": "stdout",
     "output_type": "stream",
     "text": [
      "Epoch 18: Train Loss: 0.0310, Acc: 0.9930, F1: 0.9889 | Val Loss: 0.0272, Acc: 0.9943, F1: 0.9840\n"
     ]
    },
    {
     "name": "stderr",
     "output_type": "stream",
     "text": [
      "                                                                \r"
     ]
    },
    {
     "name": "stdout",
     "output_type": "stream",
     "text": [
      "Epoch 19: Train Loss: 0.0294, Acc: 0.9931, F1: 0.9890 | Val Loss: 0.0251, Acc: 0.9946, F1: 0.9848\n"
     ]
    },
    {
     "name": "stderr",
     "output_type": "stream",
     "text": [
      "                                                                \r"
     ]
    },
    {
     "name": "stdout",
     "output_type": "stream",
     "text": [
      "Epoch 20: Train Loss: 0.0279, Acc: 0.9933, F1: 0.9892 | Val Loss: 0.0271, Acc: 0.9940, F1: 0.9832\n"
     ]
    },
    {
     "name": "stderr",
     "output_type": "stream",
     "text": [
      "                                                                \r"
     ]
    },
    {
     "name": "stdout",
     "output_type": "stream",
     "text": [
      "Epoch 21: Train Loss: 0.0268, Acc: 0.9933, F1: 0.9892 | Val Loss: 0.0240, Acc: 0.9947, F1: 0.9850\n"
     ]
    },
    {
     "name": "stderr",
     "output_type": "stream",
     "text": [
      "                                                                \r"
     ]
    },
    {
     "name": "stdout",
     "output_type": "stream",
     "text": [
      "Epoch 22: Train Loss: 0.0260, Acc: 0.9934, F1: 0.9895 | Val Loss: 0.0230, Acc: 0.9949, F1: 0.9856\n"
     ]
    },
    {
     "name": "stderr",
     "output_type": "stream",
     "text": [
      "                                                                \r"
     ]
    },
    {
     "name": "stdout",
     "output_type": "stream",
     "text": [
      "Epoch 23: Train Loss: 0.0250, Acc: 0.9935, F1: 0.9895 | Val Loss: 0.0229, Acc: 0.9950, F1: 0.9858\n"
     ]
    },
    {
     "name": "stderr",
     "output_type": "stream",
     "text": [
      "                                                                \r"
     ]
    },
    {
     "name": "stdout",
     "output_type": "stream",
     "text": [
      "Epoch 24: Train Loss: 0.0243, Acc: 0.9935, F1: 0.9896 | Val Loss: 0.0219, Acc: 0.9948, F1: 0.9855\n"
     ]
    },
    {
     "name": "stderr",
     "output_type": "stream",
     "text": [
      "                                                                \r"
     ]
    },
    {
     "name": "stdout",
     "output_type": "stream",
     "text": [
      "Epoch 25: Train Loss: 0.0236, Acc: 0.9936, F1: 0.9897 | Val Loss: 0.0211, Acc: 0.9949, F1: 0.9857\n"
     ]
    },
    {
     "name": "stderr",
     "output_type": "stream",
     "text": [
      "                                                                \r"
     ]
    },
    {
     "name": "stdout",
     "output_type": "stream",
     "text": [
      "Epoch 26: Train Loss: 0.0232, Acc: 0.9936, F1: 0.9897 | Val Loss: 0.0222, Acc: 0.9948, F1: 0.9855\n"
     ]
    },
    {
     "name": "stderr",
     "output_type": "stream",
     "text": [
      "                                                                \r"
     ]
    },
    {
     "name": "stdout",
     "output_type": "stream",
     "text": [
      "Epoch 27: Train Loss: 0.0227, Acc: 0.9937, F1: 0.9899 | Val Loss: 0.0222, Acc: 0.9948, F1: 0.9853\n"
     ]
    },
    {
     "name": "stderr",
     "output_type": "stream",
     "text": [
      "                                                                \r"
     ]
    },
    {
     "name": "stdout",
     "output_type": "stream",
     "text": [
      "Early stopping at epoch 28\n",
      "Testing wavelet: morlet\n",
      "Trial 1/1\n",
      "Using 2 GPUs!\n"
     ]
    },
    {
     "name": "stderr",
     "output_type": "stream",
     "text": [
      "                                                               \r"
     ]
    },
    {
     "name": "stdout",
     "output_type": "stream",
     "text": [
      "Epoch 1: Train Loss: 0.7658, Acc: 0.5190, F1: 0.3702 | Val Loss: 0.6945, Acc: 0.5964, F1: 0.0924\n"
     ]
    },
    {
     "name": "stderr",
     "output_type": "stream",
     "text": [
      "                                                               \r"
     ]
    },
    {
     "name": "stdout",
     "output_type": "stream",
     "text": [
      "Epoch 2: Train Loss: 0.6921, Acc: 0.5753, F1: 0.3319 | Val Loss: 0.5212, Acc: 0.8117, F1: 0.3600\n"
     ]
    },
    {
     "name": "stderr",
     "output_type": "stream",
     "text": [
      "                                                               \r"
     ]
    },
    {
     "name": "stdout",
     "output_type": "stream",
     "text": [
      "Epoch 3: Train Loss: 0.4978, Acc: 0.8039, F1: 0.6419 | Val Loss: 0.3617, Acc: 0.9464, F1: 0.8285\n"
     ]
    },
    {
     "name": "stderr",
     "output_type": "stream",
     "text": [
      "                                                               \r"
     ]
    },
    {
     "name": "stdout",
     "output_type": "stream",
     "text": [
      "Epoch 4: Train Loss: 0.3913, Acc: 0.8790, F1: 0.7720 | Val Loss: 0.3359, Acc: 0.9509, F1: 0.8449\n"
     ]
    },
    {
     "name": "stderr",
     "output_type": "stream",
     "text": [
      "                                                               \r"
     ]
    },
    {
     "name": "stdout",
     "output_type": "stream",
     "text": [
      "Epoch 5: Train Loss: 0.3289, Acc: 0.9107, F1: 0.8401 | Val Loss: 0.2695, Acc: 0.9588, F1: 0.8725\n"
     ]
    },
    {
     "name": "stderr",
     "output_type": "stream",
     "text": [
      "                                                               \r"
     ]
    },
    {
     "name": "stdout",
     "output_type": "stream",
     "text": [
      "Epoch 6: Train Loss: 0.2881, Acc: 0.9301, F1: 0.8789 | Val Loss: 0.2431, Acc: 0.9776, F1: 0.9361\n"
     ]
    },
    {
     "name": "stderr",
     "output_type": "stream",
     "text": [
      "                                                               \r"
     ]
    },
    {
     "name": "stdout",
     "output_type": "stream",
     "text": [
      "Epoch 7: Train Loss: 0.2589, Acc: 0.9362, F1: 0.8906 | Val Loss: 0.2076, Acc: 0.9760, F1: 0.9312\n"
     ]
    },
    {
     "name": "stderr",
     "output_type": "stream",
     "text": [
      "                                                               \r"
     ]
    },
    {
     "name": "stdout",
     "output_type": "stream",
     "text": [
      "Epoch 8: Train Loss: 0.2321, Acc: 0.9410, F1: 0.8997 | Val Loss: 0.1778, Acc: 0.9601, F1: 0.8780\n"
     ]
    },
    {
     "name": "stderr",
     "output_type": "stream",
     "text": [
      "                                                               \r"
     ]
    },
    {
     "name": "stdout",
     "output_type": "stream",
     "text": [
      "Epoch 9: Train Loss: 0.2095, Acc: 0.9453, F1: 0.9077 | Val Loss: 0.1479, Acc: 0.9670, F1: 0.9011\n"
     ]
    },
    {
     "name": "stderr",
     "output_type": "stream",
     "text": [
      "                                                                \r"
     ]
    },
    {
     "name": "stdout",
     "output_type": "stream",
     "text": [
      "Epoch 10: Train Loss: 0.1868, Acc: 0.9538, F1: 0.9234 | Val Loss: 0.1434, Acc: 0.9784, F1: 0.9381\n"
     ]
    },
    {
     "name": "stderr",
     "output_type": "stream",
     "text": [
      "                                                                \r"
     ]
    },
    {
     "name": "stdout",
     "output_type": "stream",
     "text": [
      "Epoch 11: Train Loss: 0.1696, Acc: 0.9588, F1: 0.9323 | Val Loss: 0.1366, Acc: 0.9678, F1: 0.9032\n"
     ]
    },
    {
     "name": "stderr",
     "output_type": "stream",
     "text": [
      "                                                                \r"
     ]
    },
    {
     "name": "stdout",
     "output_type": "stream",
     "text": [
      "Epoch 12: Train Loss: 0.1557, Acc: 0.9624, F1: 0.9386 | Val Loss: 0.1169, Acc: 0.9784, F1: 0.9382\n"
     ]
    },
    {
     "name": "stderr",
     "output_type": "stream",
     "text": [
      "                                                                \r"
     ]
    },
    {
     "name": "stdout",
     "output_type": "stream",
     "text": [
      "Epoch 13: Train Loss: 0.1432, Acc: 0.9655, F1: 0.9440 | Val Loss: 0.1162, Acc: 0.9717, F1: 0.9164\n"
     ]
    },
    {
     "name": "stderr",
     "output_type": "stream",
     "text": [
      "                                                                \r"
     ]
    },
    {
     "name": "stdout",
     "output_type": "stream",
     "text": [
      "Epoch 14: Train Loss: 0.1338, Acc: 0.9672, F1: 0.9469 | Val Loss: 0.1095, Acc: 0.9786, F1: 0.9392\n"
     ]
    },
    {
     "name": "stderr",
     "output_type": "stream",
     "text": [
      "                                                                \r"
     ]
    },
    {
     "name": "stdout",
     "output_type": "stream",
     "text": [
      "Epoch 15: Train Loss: 0.1264, Acc: 0.9682, F1: 0.9487 | Val Loss: 0.1407, Acc: 0.9521, F1: 0.8633\n"
     ]
    },
    {
     "name": "stderr",
     "output_type": "stream",
     "text": [
      "                                                                \r"
     ]
    },
    {
     "name": "stdout",
     "output_type": "stream",
     "text": [
      "Epoch 16: Train Loss: 0.1206, Acc: 0.9692, F1: 0.9503 | Val Loss: 0.0944, Acc: 0.9810, F1: 0.9459\n"
     ]
    },
    {
     "name": "stderr",
     "output_type": "stream",
     "text": [
      "                                                                \r"
     ]
    },
    {
     "name": "stdout",
     "output_type": "stream",
     "text": [
      "Epoch 17: Train Loss: 0.1155, Acc: 0.9698, F1: 0.9514 | Val Loss: 0.1048, Acc: 0.9791, F1: 0.9405\n"
     ]
    },
    {
     "name": "stderr",
     "output_type": "stream",
     "text": [
      "                                                                \r"
     ]
    },
    {
     "name": "stdout",
     "output_type": "stream",
     "text": [
      "Epoch 18: Train Loss: 0.1108, Acc: 0.9709, F1: 0.9531 | Val Loss: 0.1070, Acc: 0.9670, F1: 0.9037\n"
     ]
    },
    {
     "name": "stderr",
     "output_type": "stream",
     "text": [
      "                                                                \r"
     ]
    },
    {
     "name": "stdout",
     "output_type": "stream",
     "text": [
      "Early stopping at epoch 19\n",
      "Testing wavelet: dog\n",
      "Trial 1/1\n",
      "Using 2 GPUs!\n"
     ]
    },
    {
     "name": "stderr",
     "output_type": "stream",
     "text": [
      "                                                               \r"
     ]
    },
    {
     "name": "stdout",
     "output_type": "stream",
     "text": [
      "Epoch 1: Train Loss: 0.3514, Acc: 0.9514, F1: 0.9249 | Val Loss: 0.2314, Acc: 0.9789, F1: 0.9422\n"
     ]
    },
    {
     "name": "stderr",
     "output_type": "stream",
     "text": [
      "                                                               \r"
     ]
    },
    {
     "name": "stdout",
     "output_type": "stream",
     "text": [
      "Epoch 2: Train Loss: 0.2662, Acc: 0.9750, F1: 0.9603 | Val Loss: 0.1725, Acc: 0.9825, F1: 0.9518\n"
     ]
    },
    {
     "name": "stderr",
     "output_type": "stream",
     "text": [
      "                                                               \r"
     ]
    },
    {
     "name": "stdout",
     "output_type": "stream",
     "text": [
      "Epoch 3: Train Loss: 0.2142, Acc: 0.9779, F1: 0.9646 | Val Loss: 0.1337, Acc: 0.9854, F1: 0.9596\n"
     ]
    },
    {
     "name": "stderr",
     "output_type": "stream",
     "text": [
      "                                                               \r"
     ]
    },
    {
     "name": "stdout",
     "output_type": "stream",
     "text": [
      "Epoch 4: Train Loss: 0.1756, Acc: 0.9793, F1: 0.9669 | Val Loss: 0.1070, Acc: 0.9862, F1: 0.9618\n"
     ]
    },
    {
     "name": "stderr",
     "output_type": "stream",
     "text": [
      "                                                               \r"
     ]
    },
    {
     "name": "stdout",
     "output_type": "stream",
     "text": [
      "Epoch 5: Train Loss: 0.1455, Acc: 0.9812, F1: 0.9699 | Val Loss: 0.0851, Acc: 0.9871, F1: 0.9641\n"
     ]
    },
    {
     "name": "stderr",
     "output_type": "stream",
     "text": [
      "                                                               \r"
     ]
    },
    {
     "name": "stdout",
     "output_type": "stream",
     "text": [
      "Epoch 6: Train Loss: 0.1230, Acc: 0.9826, F1: 0.9722 | Val Loss: 0.0716, Acc: 0.9883, F1: 0.9675\n"
     ]
    },
    {
     "name": "stderr",
     "output_type": "stream",
     "text": [
      "                                                               \r"
     ]
    },
    {
     "name": "stdout",
     "output_type": "stream",
     "text": [
      "Epoch 7: Train Loss: 0.1062, Acc: 0.9833, F1: 0.9732 | Val Loss: 0.0603, Acc: 0.9892, F1: 0.9700\n"
     ]
    },
    {
     "name": "stderr",
     "output_type": "stream",
     "text": [
      "                                                               \r"
     ]
    },
    {
     "name": "stdout",
     "output_type": "stream",
     "text": [
      "Epoch 8: Train Loss: 0.0931, Acc: 0.9840, F1: 0.9743 | Val Loss: 0.0546, Acc: 0.9887, F1: 0.9683\n"
     ]
    },
    {
     "name": "stderr",
     "output_type": "stream",
     "text": [
      "                                                               \r"
     ]
    },
    {
     "name": "stdout",
     "output_type": "stream",
     "text": [
      "Epoch 9: Train Loss: 0.0830, Acc: 0.9844, F1: 0.9750 | Val Loss: 0.0507, Acc: 0.9896, F1: 0.9711\n"
     ]
    },
    {
     "name": "stderr",
     "output_type": "stream",
     "text": [
      "                                                                \r"
     ]
    },
    {
     "name": "stdout",
     "output_type": "stream",
     "text": [
      "Epoch 10: Train Loss: 0.0750, Acc: 0.9848, F1: 0.9756 | Val Loss: 0.0468, Acc: 0.9895, F1: 0.9707\n"
     ]
    },
    {
     "name": "stderr",
     "output_type": "stream",
     "text": [
      "                                                                \r"
     ]
    },
    {
     "name": "stdout",
     "output_type": "stream",
     "text": [
      "Epoch 11: Train Loss: 0.0685, Acc: 0.9852, F1: 0.9763 | Val Loss: 0.0454, Acc: 0.9895, F1: 0.9707\n"
     ]
    },
    {
     "name": "stderr",
     "output_type": "stream",
     "text": [
      "                                                                \r"
     ]
    },
    {
     "name": "stdout",
     "output_type": "stream",
     "text": [
      "Epoch 12: Train Loss: 0.0633, Acc: 0.9855, F1: 0.9767 | Val Loss: 0.0423, Acc: 0.9898, F1: 0.9717\n"
     ]
    },
    {
     "name": "stderr",
     "output_type": "stream",
     "text": [
      "                                                                \r"
     ]
    },
    {
     "name": "stdout",
     "output_type": "stream",
     "text": [
      "Epoch 13: Train Loss: 0.0590, Acc: 0.9857, F1: 0.9771 | Val Loss: 0.0410, Acc: 0.9902, F1: 0.9728\n"
     ]
    },
    {
     "name": "stderr",
     "output_type": "stream",
     "text": [
      "                                                                \r"
     ]
    },
    {
     "name": "stdout",
     "output_type": "stream",
     "text": [
      "Epoch 14: Train Loss: 0.0557, Acc: 0.9859, F1: 0.9775 | Val Loss: 0.0409, Acc: 0.9901, F1: 0.9724\n"
     ]
    },
    {
     "name": "stderr",
     "output_type": "stream",
     "text": [
      "                                                                \r"
     ]
    },
    {
     "name": "stdout",
     "output_type": "stream",
     "text": [
      "Epoch 15: Train Loss: 0.0531, Acc: 0.9860, F1: 0.9777 | Val Loss: 0.0394, Acc: 0.9902, F1: 0.9727\n"
     ]
    },
    {
     "name": "stderr",
     "output_type": "stream",
     "text": [
      "                                                                \r"
     ]
    },
    {
     "name": "stdout",
     "output_type": "stream",
     "text": [
      "Epoch 16: Train Loss: 0.0509, Acc: 0.9861, F1: 0.9778 | Val Loss: 0.0395, Acc: 0.9901, F1: 0.9725\n"
     ]
    },
    {
     "name": "stderr",
     "output_type": "stream",
     "text": [
      "                                                                \r"
     ]
    },
    {
     "name": "stdout",
     "output_type": "stream",
     "text": [
      "Epoch 17: Train Loss: 0.0490, Acc: 0.9862, F1: 0.9780 | Val Loss: 0.0391, Acc: 0.9903, F1: 0.9730\n"
     ]
    },
    {
     "name": "stderr",
     "output_type": "stream",
     "text": [
      "                                                                \r"
     ]
    },
    {
     "name": "stdout",
     "output_type": "stream",
     "text": [
      "Epoch 18: Train Loss: 0.0474, Acc: 0.9865, F1: 0.9784 | Val Loss: 0.0395, Acc: 0.9900, F1: 0.9721\n"
     ]
    },
    {
     "name": "stderr",
     "output_type": "stream",
     "text": [
      "                                                                \r"
     ]
    },
    {
     "name": "stdout",
     "output_type": "stream",
     "text": [
      "Epoch 19: Train Loss: 0.0463, Acc: 0.9864, F1: 0.9783 | Val Loss: 0.0386, Acc: 0.9904, F1: 0.9733\n"
     ]
    },
    {
     "name": "stderr",
     "output_type": "stream",
     "text": [
      "                                                                \r"
     ]
    },
    {
     "name": "stdout",
     "output_type": "stream",
     "text": [
      "Epoch 20: Train Loss: 0.0452, Acc: 0.9866, F1: 0.9786 | Val Loss: 0.0377, Acc: 0.9905, F1: 0.9736\n"
     ]
    },
    {
     "name": "stderr",
     "output_type": "stream",
     "text": [
      "                                                                \r"
     ]
    },
    {
     "name": "stdout",
     "output_type": "stream",
     "text": [
      "Epoch 21: Train Loss: 0.0443, Acc: 0.9866, F1: 0.9786 | Val Loss: 0.0389, Acc: 0.9906, F1: 0.9737\n"
     ]
    },
    {
     "name": "stderr",
     "output_type": "stream",
     "text": [
      "                                                                \r"
     ]
    },
    {
     "name": "stdout",
     "output_type": "stream",
     "text": [
      "Epoch 22: Train Loss: 0.0437, Acc: 0.9867, F1: 0.9787 | Val Loss: 0.0387, Acc: 0.9906, F1: 0.9739\n"
     ]
    },
    {
     "name": "stderr",
     "output_type": "stream",
     "text": [
      "                                                                \r"
     ]
    },
    {
     "name": "stdout",
     "output_type": "stream",
     "text": [
      "Epoch 23: Train Loss: 0.0430, Acc: 0.9868, F1: 0.9789 | Val Loss: 0.0374, Acc: 0.9907, F1: 0.9740\n"
     ]
    },
    {
     "name": "stderr",
     "output_type": "stream",
     "text": [
      "                                                                \r"
     ]
    },
    {
     "name": "stdout",
     "output_type": "stream",
     "text": [
      "Epoch 24: Train Loss: 0.0424, Acc: 0.9868, F1: 0.9790 | Val Loss: 0.0385, Acc: 0.9907, F1: 0.9740\n"
     ]
    },
    {
     "name": "stderr",
     "output_type": "stream",
     "text": [
      "                                                                \r"
     ]
    },
    {
     "name": "stdout",
     "output_type": "stream",
     "text": [
      "Epoch 25: Train Loss: 0.0420, Acc: 0.9869, F1: 0.9791 | Val Loss: 0.0380, Acc: 0.9907, F1: 0.9740\n"
     ]
    },
    {
     "name": "stderr",
     "output_type": "stream",
     "text": [
      "                                                                \r"
     ]
    },
    {
     "name": "stdout",
     "output_type": "stream",
     "text": [
      "Early stopping at epoch 26\n"
     ]
    }
   ],
   "source": [
    "results = {}\n",
    "\n",
    "# Looping over each wavelet type\n",
    "for wavelet in wavelet_types:\n",
    "    all_metrics = {\n",
    "        'train_loss': [], 'train_acc': [], 'train_precision': [], \n",
    "        'train_recall': [], 'train_f1': [], 'train_auc': [],\n",
    "        'val_loss': [], 'val_acc': [], 'val_precision': [], \n",
    "        'val_recall': [], 'val_f1': [], 'val_auc': []\n",
    "    }\n",
    "    \n",
    "    print(f'Testing wavelet: {wavelet}')\n",
    "    \n",
    "    for trial in range(trials):\n",
    "        print(f'Trial {trial+1}/{trials}')\n",
    "        best_val_loss = float('inf')\n",
    "        patience = 3\n",
    "        patience_counter = 0\n",
    "        best_model_state = None\n",
    "        \n",
    "        # Define model for binary classification\n",
    "        model = KAN([len(features), 256, 64, 1], wavelet_type=wavelet, dropout_rate=0.2)\n",
    "        \n",
    "        device = torch.device(\"cuda\" if torch.cuda.is_available() else \"cpu\")\n",
    "        model.to(device)\n",
    "        if torch.cuda.device_count() > 1:\n",
    "            print(f\"Using {torch.cuda.device_count()} GPUs!\")\n",
    "            model = nn.DataParallel(model)\n",
    "        \n",
    "        optimizer = optim.AdamW(model.parameters(), lr=1e-4, weight_decay=1e-3)\n",
    "        scheduler = optim.lr_scheduler.CosineAnnealingLR(\n",
    "            optimizer, \n",
    "            T_max=epochs_per_trial, \n",
    "            eta_min=1e-6\n",
    "        )\n",
    "        criterion = nn.BCEWithLogitsLoss()\n",
    "        \n",
    "        trial_metrics = {key: [] for key in all_metrics.keys()}\n",
    "        \n",
    "        for epoch in range(epochs_per_trial):\n",
    "            # Training\n",
    "            model.train()\n",
    "            train_loss = 0.0\n",
    "            train_preds, train_targets = [], []\n",
    "            \n",
    "            for X_batch, y_batch in tqdm(trainloader, desc=f'Epoch {epoch+1}/{epochs_per_trial}', leave=False):\n",
    "                X_batch, y_batch = X_batch.to(device), y_batch.to(device)\n",
    "                \n",
    "                optimizer.zero_grad()\n",
    "                outputs = model(X_batch).squeeze()\n",
    "                loss = criterion(outputs, y_batch)\n",
    "                loss.backward()\n",
    "                optimizer.step()\n",
    "                \n",
    "                train_loss += loss.item()\n",
    "                \n",
    "                # Store predictions and targets for metrics\n",
    "                probs = torch.sigmoid(outputs).detach().cpu().numpy()\n",
    "                preds = (probs > 0.5).astype(int)\n",
    "                train_preds.extend(preds)\n",
    "                train_targets.extend(y_batch.cpu().numpy())\n",
    "            \n",
    "            # Calculate training metrics\n",
    "            train_loss /= len(trainloader)\n",
    "            train_acc = accuracy_score(train_targets, train_preds)\n",
    "            train_precision = precision_score(train_targets, train_preds, zero_division=0)\n",
    "            train_recall = recall_score(train_targets, train_preds, zero_division=0)\n",
    "            train_f1 = f1_score(train_targets, train_preds, zero_division=0)\n",
    "            train_auc = roc_auc_score(train_targets, train_preds)\n",
    "            \n",
    "            trial_metrics['train_loss'].append(train_loss)\n",
    "            trial_metrics['train_acc'].append(train_acc)\n",
    "            trial_metrics['train_precision'].append(train_precision)\n",
    "            trial_metrics['train_recall'].append(train_recall)\n",
    "            trial_metrics['train_f1'].append(train_f1)\n",
    "            trial_metrics['train_auc'].append(train_auc)\n",
    "            \n",
    "            # Validation\n",
    "            model.eval()\n",
    "            val_loss = 0.0\n",
    "            val_preds, val_targets = [], []\n",
    "            \n",
    "            with torch.no_grad():\n",
    "                for X_batch, y_batch in testloader:\n",
    "                    X_batch, y_batch = X_batch.to(device), y_batch.to(device)\n",
    "                    \n",
    "                    outputs = model(X_batch).squeeze()\n",
    "                    loss = criterion(outputs, y_batch)\n",
    "                    val_loss += loss.item()\n",
    "                    \n",
    "                    # Store predictions and targets for metrics\n",
    "                    probs = torch.sigmoid(outputs).cpu().numpy()\n",
    "                    preds = (probs > 0.5).astype(int)\n",
    "                    val_preds.extend(preds)\n",
    "                    val_targets.extend(y_batch.cpu().numpy())\n",
    "            \n",
    "            # Calculate validation metrics\n",
    "            val_loss /= len(testloader)\n",
    "            val_acc = accuracy_score(val_targets, val_preds)\n",
    "            val_precision = precision_score(val_targets, val_preds, zero_division=0)\n",
    "            val_recall = recall_score(val_targets, val_preds, zero_division=0)\n",
    "            val_f1 = f1_score(val_targets, val_preds, zero_division=0)\n",
    "            val_auc = roc_auc_score(val_targets, val_preds)\n",
    "            \n",
    "            trial_metrics['val_loss'].append(val_loss)\n",
    "            trial_metrics['val_acc'].append(val_acc)\n",
    "            trial_metrics['val_precision'].append(val_precision)\n",
    "            trial_metrics['val_recall'].append(val_recall)\n",
    "            trial_metrics['val_f1'].append(val_f1)\n",
    "            trial_metrics['val_auc'].append(val_auc)\n",
    "            \n",
    "            # Update learning rate\n",
    "            scheduler.step()  # Remove val_loss parameter as it's not needed for CosineAnnealingLR\n",
    "\n",
    "            # Early stopping check\n",
    "            if val_loss < best_val_loss:\n",
    "                best_val_loss = val_loss\n",
    "                patience_counter = 0\n",
    "            else:\n",
    "                patience_counter += 1\n",
    "                if patience_counter >= patience:\n",
    "                    print(f\"Early stopping at epoch {epoch+1}\")\n",
    "                    break\n",
    "            \n",
    "            # Print progress\n",
    "            print(f\"Epoch {epoch+1}: Train Loss: {train_loss:.4f}, Acc: {train_acc:.4f}, F1: {train_f1:.4f} | Val Loss: {val_loss:.4f}, Acc: {val_acc:.4f}, F1: {val_f1:.4f}\")\n",
    "            torch.cuda.empty_cache()\n",
    "        \n",
    "        # Ensure all trials have metrics for the same number of epochs\n",
    "        # by padding with the last values if early stopping occurred\n",
    "        actual_epochs = len(trial_metrics['train_loss'])\n",
    "        if actual_epochs < epochs_per_trial:\n",
    "            for key in trial_metrics:\n",
    "                # Pad with the last value\n",
    "                last_value = trial_metrics[key][-1]\n",
    "                pad_length = epochs_per_trial - actual_epochs\n",
    "                trial_metrics[key].extend([last_value] * pad_length)\n",
    "                \n",
    "        # Add trial metrics to overall results\n",
    "        for key in all_metrics:\n",
    "            all_metrics[key].append(trial_metrics[key])\n",
    "    \n",
    "    # Average metrics across trials\n",
    "    avg_metrics = {}\n",
    "    for key in all_metrics:\n",
    "        # Average across trials first, then keep the epoch-by-epoch data\n",
    "        avg_metrics[key] = np.mean(all_metrics[key], axis=0)\n",
    "    \n",
    "    # Save results for this wavelet\n",
    "    results[wavelet] = avg_metrics\n",
    "    \n",
    "    # Create and save DataFrame\n",
    "    results_df = pd.DataFrame({\n",
    "        'Epoch': range(1, len(avg_metrics['train_loss']) + 1),\n",
    "        'Train Loss': avg_metrics['train_loss'],\n",
    "        'Train Accuracy': avg_metrics['train_acc'],\n",
    "        'Train Precision': avg_metrics['train_precision'],\n",
    "        'Train Recall': avg_metrics['train_recall'],\n",
    "        'Train F1': avg_metrics['train_f1'],\n",
    "        'Train AUC': avg_metrics['train_auc'],\n",
    "        'Validation Loss': avg_metrics['val_loss'],\n",
    "        'Validation Accuracy': avg_metrics['val_acc'],\n",
    "        'Validation Precision': avg_metrics['val_precision'],\n",
    "        'Validation Recall': avg_metrics['val_recall'],\n",
    "        'Validation F1': avg_metrics['val_f1'],\n",
    "        'Validation AUC': avg_metrics['val_auc']\n",
    "    })\n",
    "    \n",
    "    # # Save to Excel\n",
    "    # file_name = f'{wavelet}_binary_results.xlsx'\n",
    "    # results_df.to_excel(file_name, index=False)\n",
    "    # print(f\"Results saved to {file_name}\")"
   ]
  },
  {
   "cell_type": "code",
   "execution_count": 14,
   "metadata": {},
   "outputs": [
    {
     "data": {
      "image/png": "[encoded data removed]",
      "text/plain": [
       "<Figure size 1200x800 with 1 Axes>"
      ]
     },
     "metadata": {},
     "output_type": "display_data"
    },
    {
     "data": {
      "image/png": "[encoded data removed]",
      "text/plain": [
       "<Figure size 1600x1200 with 4 Axes>"
      ]
     },
     "metadata": {},
     "output_type": "display_data"
    },
    {
     "name": "stdout",
     "output_type": "stream",
     "text": [
      "\n",
      "最佳性能汇总表:\n"
     ]
    },
    {
     "data": {
      "application/vnd.microsoft.datawrangler.viewer.v0+json": {
       "columns": [
        {
         "name": "index",
         "rawType": "int64",
         "type": "integer"
        },
        {
         "name": "Wavelet",
         "rawType": "object",
         "type": "string"
        },
        {
         "name": "Best Epoch",
         "rawType": "int64",
         "type": "integer"
        },
        {
         "name": "Val Loss",
         "rawType": "object",
         "type": "string"
        },
        {
         "name": "Val Accuracy",
         "rawType": "object",
         "type": "string"
        },
        {
         "name": "Val Precision",
         "rawType": "object",
         "type": "string"
        },
        {
         "name": "Val Recall",
         "rawType": "object",
         "type": "string"
        },
        {
         "name": "Val F1",
         "rawType": "object",
         "type": "string"
        },
        {
         "name": "Val AUC",
         "rawType": "object",
         "type": "string"
        }
       ],
       "conversionMethod": "pd.DataFrame",
       "ref": "fa24e408-d5e7-4d53-bd9d-c369801b425a",
       "rows": [
        [
         "0",
         "shannon",
         "23",
         "0.0229",
         "0.9950",
         "0.9928",
         "0.9790",
         "0.9858",
         "0.9887"
        ],
        [
         "2",
         "dog",
         "26",
         "0.0377",
         "0.9908",
         "0.9743",
         "0.9742",
         "0.9742",
         "0.9843"
        ],
        [
         "1",
         "morlet",
         "16",
         "0.0944",
         "0.9810",
         "0.9669",
         "0.9257",
         "0.9459",
         "0.9594"
        ]
       ],
       "shape": {
        "columns": 8,
        "rows": 3
       }
      },
      "text/html": [
       "<div>\n",
       "<style scoped>\n",
       "    .dataframe tbody tr th:only-of-type {\n",
       "        vertical-align: middle;\n",
       "    }\n",
       "\n",
       "    .dataframe tbody tr th {\n",
       "        vertical-align: top;\n",
       "    }\n",
       "\n",
       "    .dataframe thead th {\n",
       "        text-align: right;\n",
       "    }\n",
       "</style>\n",
       "<table border=\"1\" class=\"dataframe\">\n",
       "  <thead>\n",
       "    <tr style=\"text-align: right;\">\n",
       "      <th></th>\n",
       "      <th>Wavelet</th>\n",
       "      <th>Best Epoch</th>\n",
       "      <th>Val Loss</th>\n",
       "      <th>Val Accuracy</th>\n",
       "      <th>Val Precision</th>\n",
       "      <th>Val Recall</th>\n",
       "      <th>Val F1</th>\n",
       "      <th>Val AUC</th>\n",
       "    </tr>\n",
       "  </thead>\n",
       "  <tbody>\n",
       "    <tr>\n",
       "      <th>0</th>\n",
       "      <td>shannon</td>\n",
       "      <td>23</td>\n",
       "      <td>0.0229</td>\n",
       "      <td>0.9950</td>\n",
       "      <td>0.9928</td>\n",
       "      <td>0.9790</td>\n",
       "      <td>0.9858</td>\n",
       "      <td>0.9887</td>\n",
       "    </tr>\n",
       "    <tr>\n",
       "      <th>2</th>\n",
       "      <td>dog</td>\n",
       "      <td>26</td>\n",
       "      <td>0.0377</td>\n",
       "      <td>0.9908</td>\n",
       "      <td>0.9743</td>\n",
       "      <td>0.9742</td>\n",
       "      <td>0.9742</td>\n",
       "      <td>0.9843</td>\n",
       "    </tr>\n",
       "    <tr>\n",
       "      <th>1</th>\n",
       "      <td>morlet</td>\n",
       "      <td>16</td>\n",
       "      <td>0.0944</td>\n",
       "      <td>0.9810</td>\n",
       "      <td>0.9669</td>\n",
       "      <td>0.9257</td>\n",
       "      <td>0.9459</td>\n",
       "      <td>0.9594</td>\n",
       "    </tr>\n",
       "  </tbody>\n",
       "</table>\n",
       "</div>"
      ],
      "text/plain": [
       "   Wavelet  Best Epoch Val Loss Val Accuracy Val Precision Val Recall  Val F1  \\\n",
       "0  shannon          23   0.0229       0.9950        0.9928     0.9790  0.9858   \n",
       "2      dog          26   0.0377       0.9908        0.9743     0.9742  0.9742   \n",
       "1   morlet          16   0.0944       0.9810        0.9669     0.9257  0.9459   \n",
       "\n",
       "  Val AUC  \n",
       "0  0.9887  \n",
       "2  0.9843  \n",
       "1  0.9594  "
      ]
     },
     "execution_count": 14,
     "metadata": {},
     "output_type": "execute_result"
    }
   ],
   "source": [
    "# 为每种小波寻找验证F1分数最高的epoch\n",
    "best_epochs = {}\n",
    "for wavelet in wavelet_types:\n",
    "    if wavelet in results:\n",
    "        best_epoch_idx = np.argmax(results[wavelet]['val_f1'])\n",
    "        best_epochs[wavelet] = {\n",
    "            'epoch': best_epoch_idx + 1,  # +1 因为索引从0开始\n",
    "            'f1': results[wavelet]['val_f1'][best_epoch_idx]\n",
    "        }\n",
    "\n",
    "# 绘制验证F1分数对比图\n",
    "plt.figure(figsize=(12, 8))\n",
    "\n",
    "# 为每种小波类型绘制线条\n",
    "for wavelet in wavelet_types:\n",
    "    if wavelet in results:\n",
    "        epochs = range(1, len(results[wavelet]['val_f1']) + 1)\n",
    "        plt.plot(epochs, results[wavelet]['val_f1'], \n",
    "                 label=f\"{wavelet} (Max F1: {best_epochs[wavelet]['f1']:.4f})\", \n",
    "                 linewidth=2.5)\n",
    "        \n",
    "        # 标记最佳点\n",
    "        best_epoch = best_epochs[wavelet]['epoch']\n",
    "        best_f1 = best_epochs[wavelet]['f1']\n",
    "        plt.scatter(best_epoch, best_f1, s=100, marker='*', \n",
    "                   edgecolor='black', linewidth=1.5)\n",
    "\n",
    "# 添加标题和标签\n",
    "plt.title('Validation F1 Score Comparison Across Different Wavelet Types', fontsize=16, fontweight='bold')\n",
    "plt.xlabel('Epochs', fontsize=14)\n",
    "plt.ylabel('F1 Score', fontsize=14)\n",
    "plt.legend(title='Wavelet Type', fontsize=12)\n",
    "plt.grid(True, alpha=0.3)\n",
    "\n",
    "# 保存图像\n",
    "plt.tight_layout()\n",
    "plt.savefig('wavelet_f1_comparison.png', dpi=300, bbox_inches='tight')\n",
    "plt.show()\n",
    "\n",
    "# 绘制包含多个指标的对比图\n",
    "fig, axes = plt.subplots(2, 2, figsize=(16, 12))\n",
    "\n",
    "# 需要绘制的指标及其信息\n",
    "metrics_info = [\n",
    "    ('val_loss', 'Validation Loss', axes[0, 0], 'lower'),\n",
    "    ('val_acc', 'Validation Accuracy', axes[0, 1], 'higher'),\n",
    "    ('val_f1', 'Validation F1 Score', axes[1, 0], 'higher'),\n",
    "    ('val_auc', 'Validation AUC', axes[1, 1], 'higher')\n",
    "]\n",
    "\n",
    "# 绘制每个指标的折线图\n",
    "for metric_key, title, ax, goal in metrics_info:\n",
    "    for wavelet in wavelet_types:\n",
    "        if wavelet in results:\n",
    "            epochs = range(1, len(results[wavelet][metric_key]) + 1)\n",
    "            ax.plot(epochs, results[wavelet][metric_key], \n",
    "                    label=f\"{wavelet}\", linewidth=2)\n",
    "            \n",
    "            # 标记最佳F1对应的epoch在该指标上的值\n",
    "            best_epoch = best_epochs[wavelet]['epoch']\n",
    "            metric_value = results[wavelet][metric_key][best_epoch-1]\n",
    "            ax.scatter(best_epoch, metric_value, s=80, marker='*', \n",
    "                      edgecolor='black', linewidth=1.5)\n",
    "    \n",
    "    # 设置每个子图的标题和标签\n",
    "    ax.set_title(title, fontsize=14)\n",
    "    ax.set_xlabel('Epochs', fontsize=12)\n",
    "    ax.set_ylabel('Value', fontsize=12)\n",
    "    ax.legend()\n",
    "    ax.grid(True, alpha=0.3)\n",
    "    \n",
    "    # 添加提示文本\n",
    "    if goal == 'lower':\n",
    "        ax.text(0.02, 0.98, \"Lower is better\", transform=ax.transAxes, \n",
    "                verticalalignment='top', fontsize=10, fontweight='bold')\n",
    "    else:\n",
    "        ax.text(0.02, 0.02, \"Higher is better\", transform=ax.transAxes, \n",
    "                verticalalignment='bottom', fontsize=10, fontweight='bold')\n",
    "\n",
    "# 调整布局并添加总标题\n",
    "plt.tight_layout()\n",
    "fig.suptitle(\"Performance Comparison of Different Wavelets\", \n",
    "             fontsize=18, fontweight='bold', y=1.02)\n",
    "\n",
    "# 保存完整的多指标对比图\n",
    "plt.savefig('wavelet_comparison_all_metrics.png', dpi=300, bbox_inches='tight')\n",
    "plt.show()\n",
    "\n",
    "# 创建最佳性能汇总表\n",
    "comparison_data = []\n",
    "for wavelet in wavelet_types:\n",
    "    if wavelet in results:\n",
    "        best_epoch = best_epochs[wavelet]['epoch']\n",
    "        idx = best_epoch - 1  # 索引从0开始\n",
    "        \n",
    "        comparison_data.append({\n",
    "            'Wavelet': wavelet,\n",
    "            'Best Epoch': best_epoch,\n",
    "            'Val Loss': f\"{results[wavelet]['val_loss'][idx]:.4f}\",\n",
    "            'Val Accuracy': f\"{results[wavelet]['val_acc'][idx]:.4f}\",\n",
    "            'Val Precision': f\"{results[wavelet]['val_precision'][idx]:.4f}\",\n",
    "            'Val Recall': f\"{results[wavelet]['val_recall'][idx]:.4f}\",\n",
    "            'Val F1': f\"{results[wavelet]['val_f1'][idx]:.4f}\",\n",
    "            'Val AUC': f\"{results[wavelet]['val_auc'][idx]:.4f}\"\n",
    "        })\n",
    "\n",
    "# 创建DataFrame并按F1分数降序排列\n",
    "import pandas as pd\n",
    "comparison_df = pd.DataFrame(comparison_data)\n",
    "comparison_df = comparison_df.sort_values('Val F1', ascending=False)\n",
    "\n",
    "# 显示汇总表格\n",
    "print(\"\\n最佳性能汇总表:\")\n",
    "comparison_df"
   ]
  },
  {
   "cell_type": "code",
   "execution_count": 15,
   "metadata": {},
   "outputs": [
    {
     "name": "stdout",
     "output_type": "stream",
     "text": [
      "shannon: Final validation F1 = 0.9856\n",
      "morlet: Final validation F1 = 0.8741\n",
      "dog: Final validation F1 = 0.9742\n",
      "\n",
      "Best performing wavelet: shannon with F1 score: 0.9856\n"
     ]
    }
   ],
   "source": [
    "# Find the best performing wavelet type\n",
    "best_wavelet = None\n",
    "best_f1 = 0\n",
    "for wavelet, metrics in results.items():\n",
    "    avg_val_f1 = metrics['val_f1'][-1]  # Final epoch's F1 score\n",
    "    print(f\"{wavelet}: Final validation F1 = {avg_val_f1:.4f}\")\n",
    "    if avg_val_f1 > best_f1:\n",
    "        best_f1 = avg_val_f1\n",
    "        best_wavelet = wavelet\n",
    "\n",
    "print(f\"\\nBest performing wavelet: {best_wavelet} with F1 score: {best_f1:.4f}\")"
   ]
  },
  {
   "cell_type": "code",
   "execution_count": 16,
   "metadata": {},
   "outputs": [
    {
     "data": {
      "image/png": "[encoded data removed]",
      "text/plain": [
       "<Figure size 1000x800 with 1 Axes>"
      ]
     },
     "metadata": {},
     "output_type": "display_data"
    },
    {
     "name": "stdout",
     "output_type": "stream",
     "text": [
      "\n",
      "Classification Report:\n",
      "              precision    recall  f1-score   support\n",
      "\n",
      "      Normal       0.99      0.99      0.99    328539\n",
      "     Anomaly       0.97      0.97      0.97     71857\n",
      "\n",
      "    accuracy                           0.99    400396\n",
      "   macro avg       0.98      0.98      0.98    400396\n",
      "weighted avg       0.99      0.99      0.99    400396\n",
      "\n",
      "\n",
      "Accuracy: 0.9908\n",
      "Precision: 0.9743\n",
      "Recall: 0.9742\n",
      "F1 Score: 0.9742\n",
      "Sensitivity (TPR): 0.9742\n",
      "Specificity (TNR): 0.9944\n"
     ]
    }
   ],
   "source": [
    "\n",
    "# Load the saved model weights if you saved them\n",
    "# model.load_state_dict(torch.load(f'wavkan_{best_wavelet}_best_model.pt'))\n",
    "# Or if you're continuing from the training loop, you can use the model directly\n",
    "\n",
    "# Set model to evaluation mode\n",
    "model.eval()\n",
    "\n",
    "# Generate predictions on test set\n",
    "all_preds = []\n",
    "all_targets = []\n",
    "\n",
    "with torch.no_grad():\n",
    "    for X_batch, y_batch in testloader:\n",
    "        X_batch, y_batch = X_batch.to(device), y_batch.to(device)\n",
    "        outputs = model(X_batch).squeeze()\n",
    "        \n",
    "        # Convert outputs to binary predictions\n",
    "        probs = torch.sigmoid(outputs).cpu().numpy()\n",
    "        preds = (probs > 0.5).astype(int)\n",
    "        \n",
    "        all_preds.extend(preds)\n",
    "        all_targets.extend(y_batch.cpu().numpy())\n",
    "\n",
    "# Create confusion matrix\n",
    "cm = confusion_matrix(all_targets, all_preds)\n",
    "\n",
    "# Class labels (for binary classification)\n",
    "class_labels = ['Normal', 'Anomaly']  # Update these labels based on your specific context\n",
    "\n",
    "# Create figure with larger size for better visibility\n",
    "plt.figure(figsize=(10, 8))\n",
    "\n",
    "# Create a heatmap visualization of the confusion matrix\n",
    "sns.heatmap(cm, annot=True, fmt='d', cmap='Blues', cbar=False,\n",
    "            xticklabels=class_labels, yticklabels=class_labels)\n",
    "\n",
    "# Add labels, title, and adjust layout\n",
    "plt.xlabel('Predicted Label', fontsize=14)\n",
    "plt.ylabel('True Label', fontsize=14)\n",
    "plt.title(f'Confusion Matrix - wavKAN with {best_wavelet} wavelet', fontsize=16)\n",
    "\n",
    "# Calculate percentages for a more detailed view\n",
    "cm_norm = cm.astype('float') / cm.sum(axis=1)[:, np.newaxis]\n",
    "cm_percent = cm_norm * 100\n",
    "\n",
    "# Add text annotations with percentages\n",
    "for i in range(len(class_labels)):\n",
    "    for j in range(len(class_labels)):\n",
    "        plt.text(j + 0.5, i + 0.7, f'({cm_percent[i, j]:.1f}%)', \n",
    "                 ha='center', va='center', color='black', fontsize=12)\n",
    "\n",
    "# Add descriptive text for each quadrant\n",
    "TN, FP, FN, TP = cm.ravel()\n",
    "plt.figtext(0.15, 0.15, f'True Negatives: {TN}', fontsize=12, ha='left')\n",
    "plt.figtext(0.15, 0.1, f'False Positives: {FP}', fontsize=12, ha='left')\n",
    "plt.figtext(0.6, 0.15, f'False Negatives: {FN}', fontsize=12, ha='left')\n",
    "plt.figtext(0.6, 0.1, f'True Positives: {TP}', fontsize=12, ha='left')\n",
    "\n",
    "plt.tight_layout()\n",
    "plt.savefig(f'confusion_matrix_{best_wavelet}.png', dpi=300, bbox_inches='tight')\n",
    "plt.show()\n",
    "\n",
    "# Print classification report for additional details\n",
    "print(\"\\nClassification Report:\")\n",
    "print(classification_report(all_targets, all_preds, target_names=class_labels))\n",
    "\n",
    "# Calculate and print additional metrics\n",
    "from sklearn.metrics import accuracy_score, precision_score, recall_score, f1_score, roc_auc_score\n",
    "\n",
    "accuracy = accuracy_score(all_targets, all_preds)\n",
    "precision = precision_score(all_targets, all_preds, zero_division=0)\n",
    "recall = recall_score(all_targets, all_preds, zero_division=0)\n",
    "f1 = f1_score(all_targets, all_preds, zero_division=0)\n",
    "\n",
    "print(f\"\\nAccuracy: {accuracy:.4f}\")\n",
    "print(f\"Precision: {precision:.4f}\")\n",
    "print(f\"Recall: {recall:.4f}\")\n",
    "print(f\"F1 Score: {f1:.4f}\")\n",
    "\n",
    "# Calculate sensitivity (True Positive Rate) and specificity (True Negative Rate)\n",
    "sensitivity = TP / (TP + FN) if (TP + FN) > 0 else 0\n",
    "specificity = TN / (TN + FP) if (TN + FP) > 0 else 0\n",
    "\n",
    "print(f\"Sensitivity (TPR): {sensitivity:.4f}\")\n",
    "print(f\"Specificity (TNR): {specificity:.4f}\")"
   ]
  }
 ],
 "metadata": {
  "kernelspec": {
   "display_name": "DL3.10",
   "language": "python",
   "name": "python3"
  },
  "language_info": {
   "codemirror_mode": {
    "name": "ipython",
    "version": 3
   },
   "file_extension": ".py",
   "mimetype": "text/x-python",
   "name": "python",
   "nbconvert_exporter": "python",
   "pygments_lexer": "ipython3",
   "version": "3.10.16"
  }
 },
 "nbformat": 4,
 "nbformat_minor": 2
}
